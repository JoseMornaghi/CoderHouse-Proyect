{
 "cells": [
  {
   "cell_type": "markdown",
   "id": "ff847eef",
   "metadata": {},
   "source": [
    "Generar un array aleatorio de 100 elementos. Calcular la mediana correspondiente."
   ]
  },
  {
   "cell_type": "code",
   "execution_count": 19,
   "id": "74c84826",
   "metadata": {},
   "outputs": [
    {
     "data": {
      "text/plain": [
       "51.0"
      ]
     },
     "execution_count": 19,
     "metadata": {},
     "output_type": "execute_result"
    }
   ],
   "source": [
    "import numpy as np\n",
    "random = np.random.randint(0,100,100)\n",
    "random\n",
    "np.median(random)"
   ]
  },
  {
   "cell_type": "markdown",
   "id": "a9e5f125",
   "metadata": {},
   "source": [
    "Recordar los ejercicios con funciones para cálculo de factorial y suma de serie de la Clase 02. Repetir ambos ejercicios, pero ahora utilizar las nuevas operaciones aprendidas con los ndarrays."
   ]
  },
  {
   "cell_type": "markdown",
   "id": "2d32c53d",
   "metadata": {},
   "source": [
    "Escribir una funcion para calcular el factorial de un numero cualquiera."
   ]
  },
  {
   "cell_type": "code",
   "execution_count": 108,
   "id": "7419fbb4",
   "metadata": {},
   "outputs": [],
   "source": [
    "def factorial(a):\n",
    "    if a == 0:\n",
    "        r = 1\n",
    "    else:\n",
    "        array = np.arange(1,abs(a))\n",
    "        r = array.prod()*a\n",
    "    return r"
   ]
  },
  {
   "cell_type": "code",
   "execution_count": 109,
   "id": "3236828f",
   "metadata": {},
   "outputs": [
    {
     "data": {
      "text/plain": [
       "120"
      ]
     },
     "execution_count": 109,
     "metadata": {},
     "output_type": "execute_result"
    }
   ],
   "source": [
    "testA = factorial(5)\n",
    "testA"
   ]
  },
  {
   "cell_type": "code",
   "execution_count": 110,
   "id": "6b2c08bb",
   "metadata": {},
   "outputs": [
    {
     "data": {
      "text/plain": [
       "-24"
      ]
     },
     "execution_count": 110,
     "metadata": {},
     "output_type": "execute_result"
    }
   ],
   "source": [
    "testB = factorial(-4)\n",
    "testB"
   ]
  },
  {
   "cell_type": "code",
   "execution_count": 111,
   "id": "31813752",
   "metadata": {},
   "outputs": [
    {
     "data": {
      "text/plain": [
       "1"
      ]
     },
     "execution_count": 111,
     "metadata": {},
     "output_type": "execute_result"
    }
   ],
   "source": [
    "testC = factorial(0)\n",
    "testC"
   ]
  },
  {
   "cell_type": "markdown",
   "id": "c613f565",
   "metadata": {},
   "source": [
    "Escribir una funcion para calcular la suma de una serie comenzando por un numero cualquiera y terminando en otro numero que debe ser mayor al primero"
   ]
  },
  {
   "cell_type": "code",
   "execution_count": 76,
   "id": "357ca60d",
   "metadata": {},
   "outputs": [],
   "source": [
    "def sumatoria(a,b):\n",
    "    if a > b:\n",
    "        return(\"Los limites inferiores y superiores no se respetan\")\n",
    "    array = np.arange(a,b+1)\n",
    "    return array.sum()"
   ]
  },
  {
   "cell_type": "code",
   "execution_count": 77,
   "id": "3f3cfd34",
   "metadata": {},
   "outputs": [
    {
     "data": {
      "text/plain": [
       "55"
      ]
     },
     "execution_count": 77,
     "metadata": {},
     "output_type": "execute_result"
    }
   ],
   "source": [
    "sum1 = sumatoria(0,10)\n",
    "sum1"
   ]
  },
  {
   "cell_type": "code",
   "execution_count": 78,
   "id": "73b44932",
   "metadata": {},
   "outputs": [
    {
     "data": {
      "text/plain": [
       "5050"
      ]
     },
     "execution_count": 78,
     "metadata": {},
     "output_type": "execute_result"
    }
   ],
   "source": [
    "sum2 = sumatoria(0,100)\n",
    "sum2"
   ]
  },
  {
   "cell_type": "code",
   "execution_count": 81,
   "id": "94ae9a51",
   "metadata": {},
   "outputs": [
    {
     "data": {
      "text/plain": [
       "'Los limites inferiores y superiores no se respetan'"
      ]
     },
     "execution_count": 81,
     "metadata": {},
     "output_type": "execute_result"
    }
   ],
   "source": [
    "sum3 = sumatoria(10,5)\n",
    "sum3"
   ]
  },
  {
   "cell_type": "markdown",
   "id": "6d958251",
   "metadata": {},
   "source": [
    "En este link se provee un archivo con los resultados de la Encuesta de Sueldos de Openqube de Febrero 2020 (https://sueldos.openqube.io/encuesta-sueldos-2020.02/ ), Calcular y comparar media y mediana de los sueldos netos."
   ]
  },
  {
   "cell_type": "code",
   "execution_count": 39,
   "id": "9d619423",
   "metadata": {
    "scrolled": true
   },
   "outputs": [
    {
     "data": {
      "text/html": [
       "<div>\n",
       "<style scoped>\n",
       "    .dataframe tbody tr th:only-of-type {\n",
       "        vertical-align: middle;\n",
       "    }\n",
       "\n",
       "    .dataframe tbody tr th {\n",
       "        vertical-align: top;\n",
       "    }\n",
       "\n",
       "    .dataframe thead th {\n",
       "        text-align: right;\n",
       "    }\n",
       "</style>\n",
       "<table border=\"1\" class=\"dataframe\">\n",
       "  <thead>\n",
       "    <tr style=\"text-align: right;\">\n",
       "      <th></th>\n",
       "      <th>Salario mensual NETO (en tu moneda local)</th>\n",
       "    </tr>\n",
       "  </thead>\n",
       "  <tbody>\n",
       "    <tr>\n",
       "      <th>0</th>\n",
       "      <td>43000.0</td>\n",
       "    </tr>\n",
       "    <tr>\n",
       "      <th>1</th>\n",
       "      <td>63000.0</td>\n",
       "    </tr>\n",
       "    <tr>\n",
       "      <th>2</th>\n",
       "      <td>127000.0</td>\n",
       "    </tr>\n",
       "    <tr>\n",
       "      <th>3</th>\n",
       "      <td>102000.0</td>\n",
       "    </tr>\n",
       "    <tr>\n",
       "      <th>4</th>\n",
       "      <td>106000.0</td>\n",
       "    </tr>\n",
       "    <tr>\n",
       "      <th>...</th>\n",
       "      <td>...</td>\n",
       "    </tr>\n",
       "    <tr>\n",
       "      <th>6410</th>\n",
       "      <td>97000.0</td>\n",
       "    </tr>\n",
       "    <tr>\n",
       "      <th>6411</th>\n",
       "      <td>71000.0</td>\n",
       "    </tr>\n",
       "    <tr>\n",
       "      <th>6412</th>\n",
       "      <td>45753.0</td>\n",
       "    </tr>\n",
       "    <tr>\n",
       "      <th>6413</th>\n",
       "      <td>72.0</td>\n",
       "    </tr>\n",
       "    <tr>\n",
       "      <th>6414</th>\n",
       "      <td>65000.0</td>\n",
       "    </tr>\n",
       "  </tbody>\n",
       "</table>\n",
       "<p>6415 rows × 1 columns</p>\n",
       "</div>"
      ],
      "text/plain": [
       "      Salario mensual NETO (en tu moneda local)\n",
       "0                                       43000.0\n",
       "1                                       63000.0\n",
       "2                                      127000.0\n",
       "3                                      102000.0\n",
       "4                                      106000.0\n",
       "...                                         ...\n",
       "6410                                    97000.0\n",
       "6411                                    71000.0\n",
       "6412                                    45753.0\n",
       "6413                                       72.0\n",
       "6414                                    65000.0\n",
       "\n",
       "[6415 rows x 1 columns]"
      ]
     },
     "execution_count": 39,
     "metadata": {},
     "output_type": "execute_result"
    }
   ],
   "source": [
    "import pandas as pd\n",
    "datos = pd.read_excel(r'C:\\Users\\Jose\\Desktop\\PyProjects\\SalariosOpenqube.xlsx', na_values = [0], usecols = \"AW\")\n",
    "# Primero tuve que convertir toda la columna a numeros, habia algunos elementos escritos como texto.\n",
    "datos"
   ]
  },
  {
   "cell_type": "code",
   "execution_count": 40,
   "id": "c6664df0",
   "metadata": {},
   "outputs": [
    {
     "data": {
      "text/plain": [
       "76000.0"
      ]
     },
     "execution_count": 40,
     "metadata": {},
     "output_type": "execute_result"
    }
   ],
   "source": [
    "datos['Salario mensual NETO (en tu moneda local)'].median()"
   ]
  },
  {
   "cell_type": "code",
   "execution_count": 42,
   "id": "39e346c5",
   "metadata": {},
   "outputs": [
    {
     "data": {
      "text/plain": [
       "19309452.112037756"
      ]
     },
     "execution_count": 42,
     "metadata": {},
     "output_type": "execute_result"
    }
   ],
   "source": [
    "datos['Salario mensual NETO (en tu moneda local)'].mean()"
   ]
  }
 ],
 "metadata": {
  "kernelspec": {
   "display_name": "Python 3",
   "language": "python",
   "name": "python3"
  },
  "language_info": {
   "codemirror_mode": {
    "name": "ipython",
    "version": 3
   },
   "file_extension": ".py",
   "mimetype": "text/x-python",
   "name": "python",
   "nbconvert_exporter": "python",
   "pygments_lexer": "ipython3",
   "version": "3.8.8"
  }
 },
 "nbformat": 4,
 "nbformat_minor": 5
}
