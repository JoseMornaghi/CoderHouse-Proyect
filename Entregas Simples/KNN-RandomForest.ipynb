{
 "cells": [
  {
   "cell_type": "markdown",
   "id": "d32b0b20-5194-4248-b688-896ac7b239ca",
   "metadata": {},
   "source": [
    "# CoderHouse - Grupo 7 - Algoritmo de Clasificación\n",
    "\n",
    "* <b>Profesor:</b> David Romero Acosta\n",
    "\n",
    "* <b>Tutoria:</b> Hector Ponce Schwarz\n",
    "\n",
    "<b>Alumnos:</b>\n",
    "* Juan Pascual\n",
    "* Lucas Ariel Saavedra\n",
    "* Bartolome Oscar Meritello\n",
    "* Jose Mornaghi"
   ]
  },
  {
   "cell_type": "markdown",
   "id": "3d51d857-f4ac-4244-8808-e7d65a0c1bf4",
   "metadata": {},
   "source": [
    "#### Primero importamos las librerias que utilizaremos en el trabajo y el dataset"
   ]
  },
  {
   "cell_type": "code",
   "execution_count": 22,
   "id": "2ce3413b-7e62-4d94-b5e4-8b8e181045af",
   "metadata": {},
   "outputs": [],
   "source": [
    "import numpy as np\n",
    "import pandas as pd\n",
    "import matplotlib.pyplot as plt\n",
    "from sklearn.model_selection import train_test_split\n",
    "from sklearn.neighbors import KNeighborsClassifier\n",
    "from sklearn.ensemble import RandomForestClassifier\n",
    "from sklearn.tree import DecisionTreeClassifier\n",
    "from sklearn.metrics import accuracy_score"
   ]
  },
  {
   "cell_type": "code",
   "execution_count": 23,
   "id": "4b99e726-19bd-400a-858d-1f93f7eb867f",
   "metadata": {},
   "outputs": [
    {
     "data": {
      "text/html": [
       "<div>\n",
       "<style scoped>\n",
       "    .dataframe tbody tr th:only-of-type {\n",
       "        vertical-align: middle;\n",
       "    }\n",
       "\n",
       "    .dataframe tbody tr th {\n",
       "        vertical-align: top;\n",
       "    }\n",
       "\n",
       "    .dataframe thead th {\n",
       "        text-align: right;\n",
       "    }\n",
       "</style>\n",
       "<table border=\"1\" class=\"dataframe\">\n",
       "  <thead>\n",
       "    <tr style=\"text-align: right;\">\n",
       "      <th></th>\n",
       "      <th>gender</th>\n",
       "      <th>age</th>\n",
       "      <th>hypertension</th>\n",
       "      <th>heart_disease</th>\n",
       "      <th>ever_married</th>\n",
       "      <th>work_type</th>\n",
       "      <th>Residence_type</th>\n",
       "      <th>avg_glucose_level</th>\n",
       "      <th>smoking_status</th>\n",
       "      <th>stroke</th>\n",
       "      <th>bmi</th>\n",
       "    </tr>\n",
       "  </thead>\n",
       "  <tbody>\n",
       "    <tr>\n",
       "      <th>0</th>\n",
       "      <td>Male</td>\n",
       "      <td>67.0</td>\n",
       "      <td>0</td>\n",
       "      <td>1</td>\n",
       "      <td>Yes</td>\n",
       "      <td>Private</td>\n",
       "      <td>Urban</td>\n",
       "      <td>228.69</td>\n",
       "      <td>formerly smoked</td>\n",
       "      <td>1</td>\n",
       "      <td>36.600000</td>\n",
       "    </tr>\n",
       "    <tr>\n",
       "      <th>1</th>\n",
       "      <td>Female</td>\n",
       "      <td>61.0</td>\n",
       "      <td>0</td>\n",
       "      <td>0</td>\n",
       "      <td>Yes</td>\n",
       "      <td>Self-employed</td>\n",
       "      <td>Rural</td>\n",
       "      <td>202.21</td>\n",
       "      <td>never smoked</td>\n",
       "      <td>1</td>\n",
       "      <td>28.893237</td>\n",
       "    </tr>\n",
       "    <tr>\n",
       "      <th>2</th>\n",
       "      <td>Male</td>\n",
       "      <td>80.0</td>\n",
       "      <td>0</td>\n",
       "      <td>1</td>\n",
       "      <td>Yes</td>\n",
       "      <td>Private</td>\n",
       "      <td>Rural</td>\n",
       "      <td>105.92</td>\n",
       "      <td>never smoked</td>\n",
       "      <td>1</td>\n",
       "      <td>32.500000</td>\n",
       "    </tr>\n",
       "    <tr>\n",
       "      <th>3</th>\n",
       "      <td>Female</td>\n",
       "      <td>49.0</td>\n",
       "      <td>0</td>\n",
       "      <td>0</td>\n",
       "      <td>Yes</td>\n",
       "      <td>Private</td>\n",
       "      <td>Urban</td>\n",
       "      <td>171.23</td>\n",
       "      <td>smokes</td>\n",
       "      <td>1</td>\n",
       "      <td>34.400000</td>\n",
       "    </tr>\n",
       "    <tr>\n",
       "      <th>4</th>\n",
       "      <td>Female</td>\n",
       "      <td>79.0</td>\n",
       "      <td>1</td>\n",
       "      <td>0</td>\n",
       "      <td>Yes</td>\n",
       "      <td>Self-employed</td>\n",
       "      <td>Rural</td>\n",
       "      <td>174.12</td>\n",
       "      <td>never smoked</td>\n",
       "      <td>1</td>\n",
       "      <td>24.000000</td>\n",
       "    </tr>\n",
       "  </tbody>\n",
       "</table>\n",
       "</div>"
      ],
      "text/plain": [
       "   gender   age  hypertension  heart_disease ever_married      work_type  \\\n",
       "0    Male  67.0             0              1          Yes        Private   \n",
       "1  Female  61.0             0              0          Yes  Self-employed   \n",
       "2    Male  80.0             0              1          Yes        Private   \n",
       "3  Female  49.0             0              0          Yes        Private   \n",
       "4  Female  79.0             1              0          Yes  Self-employed   \n",
       "\n",
       "  Residence_type  avg_glucose_level   smoking_status  stroke        bmi  \n",
       "0          Urban             228.69  formerly smoked       1  36.600000  \n",
       "1          Rural             202.21     never smoked       1  28.893237  \n",
       "2          Rural             105.92     never smoked       1  32.500000  \n",
       "3          Urban             171.23           smokes       1  34.400000  \n",
       "4          Rural             174.12     never smoked       1  24.000000  "
      ]
     },
     "execution_count": 23,
     "metadata": {},
     "output_type": "execute_result"
    }
   ],
   "source": [
    "data = pd.read_csv(\"stroke_imputed.csv\")\n",
    "data.head()"
   ]
  },
  {
   "cell_type": "markdown",
   "id": "9909444c-ff78-4885-9ce9-5e173be355e4",
   "metadata": {},
   "source": [
    "#### Antes de comenzar con el modelo debemos hacer algunos ajustes en el dataset, convertiremos las variables categoricas en variables \"dummies\" "
   ]
  },
  {
   "cell_type": "code",
   "execution_count": 24,
   "id": "887fc4a8-9f16-433d-ac7a-fd6234c2b8e1",
   "metadata": {},
   "outputs": [],
   "source": [
    "data[\"gender\"].replace({\"Male\": 1, \"Female\": 0}, inplace=True)\n",
    "data[\"Residence_type\"].replace({\"Rural\": 0, \"Urban\": 1}, inplace=True)\n",
    "data[\"ever_married\"].replace({\"Yes\": 1, \"No\": 0}, inplace=True)\n",
    "\n",
    "data = pd.get_dummies(data, columns=['smoking_status'])\n",
    "data = data.drop(\"smoking_status_Unknown\", axis = 1)\n",
    "data = pd.get_dummies(data, columns=['work_type'])\n",
    "data = data.drop(\"work_type_Never_worked\", axis = 1)"
   ]
  },
  {
   "cell_type": "code",
   "execution_count": 25,
   "id": "694f52af-0c4e-4384-b7e7-bda7f6ef6e90",
   "metadata": {},
   "outputs": [
    {
     "data": {
      "text/html": [
       "<div>\n",
       "<style scoped>\n",
       "    .dataframe tbody tr th:only-of-type {\n",
       "        vertical-align: middle;\n",
       "    }\n",
       "\n",
       "    .dataframe tbody tr th {\n",
       "        vertical-align: top;\n",
       "    }\n",
       "\n",
       "    .dataframe thead th {\n",
       "        text-align: right;\n",
       "    }\n",
       "</style>\n",
       "<table border=\"1\" class=\"dataframe\">\n",
       "  <thead>\n",
       "    <tr style=\"text-align: right;\">\n",
       "      <th></th>\n",
       "      <th>gender</th>\n",
       "      <th>age</th>\n",
       "      <th>hypertension</th>\n",
       "      <th>heart_disease</th>\n",
       "      <th>ever_married</th>\n",
       "      <th>Residence_type</th>\n",
       "      <th>avg_glucose_level</th>\n",
       "      <th>stroke</th>\n",
       "      <th>bmi</th>\n",
       "      <th>smoking_status_formerly smoked</th>\n",
       "      <th>smoking_status_never smoked</th>\n",
       "      <th>smoking_status_smokes</th>\n",
       "      <th>work_type_Govt_job</th>\n",
       "      <th>work_type_Private</th>\n",
       "      <th>work_type_Self-employed</th>\n",
       "      <th>work_type_children</th>\n",
       "    </tr>\n",
       "  </thead>\n",
       "  <tbody>\n",
       "    <tr>\n",
       "      <th>0</th>\n",
       "      <td>1</td>\n",
       "      <td>67.0</td>\n",
       "      <td>0</td>\n",
       "      <td>1</td>\n",
       "      <td>1</td>\n",
       "      <td>1</td>\n",
       "      <td>228.69</td>\n",
       "      <td>1</td>\n",
       "      <td>36.600000</td>\n",
       "      <td>1</td>\n",
       "      <td>0</td>\n",
       "      <td>0</td>\n",
       "      <td>0</td>\n",
       "      <td>1</td>\n",
       "      <td>0</td>\n",
       "      <td>0</td>\n",
       "    </tr>\n",
       "    <tr>\n",
       "      <th>1</th>\n",
       "      <td>0</td>\n",
       "      <td>61.0</td>\n",
       "      <td>0</td>\n",
       "      <td>0</td>\n",
       "      <td>1</td>\n",
       "      <td>0</td>\n",
       "      <td>202.21</td>\n",
       "      <td>1</td>\n",
       "      <td>28.893237</td>\n",
       "      <td>0</td>\n",
       "      <td>1</td>\n",
       "      <td>0</td>\n",
       "      <td>0</td>\n",
       "      <td>0</td>\n",
       "      <td>1</td>\n",
       "      <td>0</td>\n",
       "    </tr>\n",
       "    <tr>\n",
       "      <th>2</th>\n",
       "      <td>1</td>\n",
       "      <td>80.0</td>\n",
       "      <td>0</td>\n",
       "      <td>1</td>\n",
       "      <td>1</td>\n",
       "      <td>0</td>\n",
       "      <td>105.92</td>\n",
       "      <td>1</td>\n",
       "      <td>32.500000</td>\n",
       "      <td>0</td>\n",
       "      <td>1</td>\n",
       "      <td>0</td>\n",
       "      <td>0</td>\n",
       "      <td>1</td>\n",
       "      <td>0</td>\n",
       "      <td>0</td>\n",
       "    </tr>\n",
       "    <tr>\n",
       "      <th>3</th>\n",
       "      <td>0</td>\n",
       "      <td>49.0</td>\n",
       "      <td>0</td>\n",
       "      <td>0</td>\n",
       "      <td>1</td>\n",
       "      <td>1</td>\n",
       "      <td>171.23</td>\n",
       "      <td>1</td>\n",
       "      <td>34.400000</td>\n",
       "      <td>0</td>\n",
       "      <td>0</td>\n",
       "      <td>1</td>\n",
       "      <td>0</td>\n",
       "      <td>1</td>\n",
       "      <td>0</td>\n",
       "      <td>0</td>\n",
       "    </tr>\n",
       "    <tr>\n",
       "      <th>4</th>\n",
       "      <td>0</td>\n",
       "      <td>79.0</td>\n",
       "      <td>1</td>\n",
       "      <td>0</td>\n",
       "      <td>1</td>\n",
       "      <td>0</td>\n",
       "      <td>174.12</td>\n",
       "      <td>1</td>\n",
       "      <td>24.000000</td>\n",
       "      <td>0</td>\n",
       "      <td>1</td>\n",
       "      <td>0</td>\n",
       "      <td>0</td>\n",
       "      <td>0</td>\n",
       "      <td>1</td>\n",
       "      <td>0</td>\n",
       "    </tr>\n",
       "  </tbody>\n",
       "</table>\n",
       "</div>"
      ],
      "text/plain": [
       "   gender   age  hypertension  heart_disease  ever_married  Residence_type  \\\n",
       "0       1  67.0             0              1             1               1   \n",
       "1       0  61.0             0              0             1               0   \n",
       "2       1  80.0             0              1             1               0   \n",
       "3       0  49.0             0              0             1               1   \n",
       "4       0  79.0             1              0             1               0   \n",
       "\n",
       "   avg_glucose_level  stroke        bmi  smoking_status_formerly smoked  \\\n",
       "0             228.69       1  36.600000                               1   \n",
       "1             202.21       1  28.893237                               0   \n",
       "2             105.92       1  32.500000                               0   \n",
       "3             171.23       1  34.400000                               0   \n",
       "4             174.12       1  24.000000                               0   \n",
       "\n",
       "   smoking_status_never smoked  smoking_status_smokes  work_type_Govt_job  \\\n",
       "0                            0                      0                   0   \n",
       "1                            1                      0                   0   \n",
       "2                            1                      0                   0   \n",
       "3                            0                      1                   0   \n",
       "4                            1                      0                   0   \n",
       "\n",
       "   work_type_Private  work_type_Self-employed  work_type_children  \n",
       "0                  1                        0                   0  \n",
       "1                  0                        1                   0  \n",
       "2                  1                        0                   0  \n",
       "3                  1                        0                   0  \n",
       "4                  0                        1                   0  "
      ]
     },
     "execution_count": 25,
     "metadata": {},
     "output_type": "execute_result"
    }
   ],
   "source": [
    "data.head()"
   ]
  },
  {
   "cell_type": "markdown",
   "id": "871307f2-04a7-495e-bd59-d970838d879d",
   "metadata": {},
   "source": [
    "#### Procedemos a separar el dataset de la variable objetivo"
   ]
  },
  {
   "cell_type": "code",
   "execution_count": 26,
   "id": "a4efa070-6d6b-4029-addc-da69d8dbdb94",
   "metadata": {},
   "outputs": [],
   "source": [
    "X = data.drop([\"stroke\"], axis=1)\n",
    "Y = data[\"stroke\"]"
   ]
  },
  {
   "cell_type": "markdown",
   "id": "84990463-925c-4169-a872-5ee64a7c4077",
   "metadata": {},
   "source": [
    "#### Ahora separamos en los sets de entrenamiento y prueba"
   ]
  },
  {
   "cell_type": "code",
   "execution_count": 27,
   "id": "a2297fe4-7464-4dc7-9cc8-cdbc7cca2341",
   "metadata": {},
   "outputs": [],
   "source": [
    "(X_train, X_test,\n",
    "Y_train, Y_test) = train_test_split(X,\n",
    "                                    Y,\n",
    "                                    stratify=Y,\n",
    "                                    test_size=0.20,\n",
    "                                    random_state=11)"
   ]
  },
  {
   "cell_type": "markdown",
   "id": "7da2eb43-c458-4df4-8adf-8e46f3bdffbf",
   "metadata": {},
   "source": [
    "### Vamos a utilizar dos modelos de clasificacion: KNN y RandomForest"
   ]
  },
  {
   "cell_type": "markdown",
   "id": "37972434-da84-4ed5-83a8-ba767851df25",
   "metadata": {},
   "source": [
    "#### Comenzando por KNearest"
   ]
  },
  {
   "cell_type": "code",
   "execution_count": 28,
   "id": "94f95df5-39ca-40dc-8fe5-1f5c2cff5d1a",
   "metadata": {},
   "outputs": [
    {
     "data": {
      "text/plain": [
       "0.9510763209393346"
      ]
     },
     "execution_count": 28,
     "metadata": {},
     "output_type": "execute_result"
    }
   ],
   "source": [
    "model = KNeighborsClassifier(n_neighbors=8).fit(X_train, Y_train)\n",
    "model.score(X_test, Y_test)"
   ]
  },
  {
   "cell_type": "markdown",
   "id": "9e124815-bc3a-4907-b639-d4cc65703706",
   "metadata": {},
   "source": [
    "El modelo KNN tiene un 95.10% de aciertos sobre el set de evaluacion"
   ]
  },
  {
   "cell_type": "markdown",
   "id": "1c41a5f0-bfc4-445a-bf76-312fc25116fc",
   "metadata": {},
   "source": [
    "#### Procedemos a utilizar el modelo RandomForest"
   ]
  },
  {
   "cell_type": "markdown",
   "id": "fa9a6025-7e4f-4258-884f-281e2939e135",
   "metadata": {},
   "source": [
    "##### Primero creamos un arbol de decisión sencillo, lo entrenamos y realizamos las predicciones"
   ]
  },
  {
   "cell_type": "code",
   "execution_count": 21,
   "id": "5b49cf76-0049-4c75-8a45-2190776926d6",
   "metadata": {},
   "outputs": [
    {
     "name": "stdout",
     "output_type": "stream",
     "text": [
      "% de aciertos sobre el set de evaluación: 0.9021526418786693\n"
     ]
    }
   ],
   "source": [
    "#Creamos un arbol de decisión sencillo y lo fiteamos\n",
    "tree = DecisionTreeClassifier(random_state=11)\n",
    "tree.fit(X_train, Y_train)\n",
    "Y_test_pred = tree.predict(X_test)\n",
    "test_accuracy = accuracy_score(Y_test, Y_test_pred)\n",
    "print('% de aciertos sobre el set de evaluación:',test_accuracy)"
   ]
  },
  {
   "cell_type": "markdown",
   "id": "e27383ed-24f4-49dd-8437-a3c0366f63ed",
   "metadata": {},
   "source": [
    "##### Finalmente creamos el modelo randomForest y procedemos a entrenarlo y realizar las predicciones"
   ]
  },
  {
   "cell_type": "code",
   "execution_count": 20,
   "id": "ed7c741c-68d3-4656-b77f-e705c6deb306",
   "metadata": {},
   "outputs": [
    {
     "name": "stdout",
     "output_type": "stream",
     "text": [
      "% de aciertos sobre el set de evaluación: 0.9481409001956947\n"
     ]
    }
   ],
   "source": [
    "#Creamos un random forest!\n",
    "model = RandomForestClassifier(random_state=11, n_estimators=200,\n",
    "                               class_weight=\"balanced\", max_features=\"log2\")\n",
    "model.fit(X_train, Y_train)\n",
    "Y_test_pred = model.predict(X_test)\n",
    "test_accuracy = accuracy_score(Y_test, Y_test_pred)\n",
    "print('% de aciertos sobre el set de evaluación:',test_accuracy)"
   ]
  },
  {
   "cell_type": "markdown",
   "id": "a4c18afd-bf25-4df4-8a00-1ddc568244cb",
   "metadata": {},
   "source": [
    "Ambos modelos tienen un muy buen ajuste de los datos. KNN tiene un ligeramente mejor porcentaje de aciertos (95.10%) vs Random Forest (94.81%)"
   ]
  }
 ],
 "metadata": {
  "kernelspec": {
   "display_name": "Python 3 (ipykernel)",
   "language": "python",
   "name": "python3"
  },
  "language_info": {
   "codemirror_mode": {
    "name": "ipython",
    "version": 3
   },
   "file_extension": ".py",
   "mimetype": "text/x-python",
   "name": "python",
   "nbconvert_exporter": "python",
   "pygments_lexer": "ipython3",
   "version": "3.10.2"
  }
 },
 "nbformat": 4,
 "nbformat_minor": 5
}
