{
 "cells": [
  {
   "cell_type": "markdown",
   "id": "25f2adec",
   "metadata": {},
   "source": [
    "Escribir una funcion para calcular el factorial de un numero cualquiera"
   ]
  },
  {
   "cell_type": "code",
   "execution_count": 65,
   "id": "37678f05",
   "metadata": {
    "scrolled": true
   },
   "outputs": [],
   "source": [
    "def factorial(num):\n",
    "    if num >=0:\n",
    "        contadorfact = 1\n",
    "    else:\n",
    "        contadorfact = -1\n",
    "    for i in range(1,abs(num)+1):\n",
    "        contadorfact *= i\n",
    "    return contadorfact"
   ]
  },
  {
   "cell_type": "code",
   "execution_count": 66,
   "id": "6a98b59b",
   "metadata": {},
   "outputs": [
    {
     "name": "stdout",
     "output_type": "stream",
     "text": [
      "120\n"
     ]
    }
   ],
   "source": [
    "pruebaf1 = factorial(5)\n",
    "print(pruebaf1)"
   ]
  },
  {
   "cell_type": "code",
   "execution_count": 67,
   "id": "28df105c",
   "metadata": {},
   "outputs": [
    {
     "name": "stdout",
     "output_type": "stream",
     "text": [
      "1\n"
     ]
    }
   ],
   "source": [
    "pruebaf2 = factorial(0)\n",
    "print(pruebaf2)"
   ]
  },
  {
   "cell_type": "code",
   "execution_count": 68,
   "id": "ac0c14e7",
   "metadata": {},
   "outputs": [
    {
     "name": "stdout",
     "output_type": "stream",
     "text": [
      "-1\n"
     ]
    }
   ],
   "source": [
    "pruebaf3 = factorial(-1)\n",
    "print(pruebaf3)"
   ]
  },
  {
   "cell_type": "markdown",
   "id": "ea74a744",
   "metadata": {},
   "source": [
    "Escribir una funcion para calcular la suma de una serie comenzando por un numero cualquiera y terminando en otro numero que debe ser mayor al primero"
   ]
  },
  {
   "cell_type": "code",
   "execution_count": 73,
   "id": "875c3770",
   "metadata": {},
   "outputs": [],
   "source": [
    "def sumatoria(a,b):\n",
    "    suma = 0\n",
    "    if b < a:\n",
    "        suma = \"Los limites inferiores y superiores no se respetan\"\n",
    "    if b >= a:\n",
    "        suma = a\n",
    "        for i in range(a+1,b+1):\n",
    "            suma += i\n",
    "    return suma        "
   ]
  },
  {
   "cell_type": "code",
   "execution_count": 74,
   "id": "7b7a2cc0",
   "metadata": {},
   "outputs": [
    {
     "name": "stdout",
     "output_type": "stream",
     "text": [
      "5\n"
     ]
    }
   ],
   "source": [
    "prueba1 = sumatoria(5,5)\n",
    "print(prueba1)"
   ]
  },
  {
   "cell_type": "code",
   "execution_count": 72,
   "id": "bd6ea3a2",
   "metadata": {},
   "outputs": [
    {
     "name": "stdout",
     "output_type": "stream",
     "text": [
      "Los limites inferiores y superiores no se respetan\n"
     ]
    }
   ],
   "source": [
    "prueba2 = sumatoria(20,10)\n",
    "print(prueba2)"
   ]
  }
 ],
 "metadata": {
  "kernelspec": {
   "display_name": "Python 3",
   "language": "python",
   "name": "python3"
  },
  "language_info": {
   "codemirror_mode": {
    "name": "ipython",
    "version": 3
   },
   "file_extension": ".py",
   "mimetype": "text/x-python",
   "name": "python",
   "nbconvert_exporter": "python",
   "pygments_lexer": "ipython3",
   "version": "3.8.8"
  }
 },
 "nbformat": 4,
 "nbformat_minor": 5
}
